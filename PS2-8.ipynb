{
 "cells": [
  {
   "cell_type": "markdown",
   "metadata": {},
   "source": [
    "#Question 8\n",
    "Write SQL queries on the below database table that return:"
   ]
  },
  {
   "cell_type": "code",
   "execution_count": 27,
   "metadata": {
    "scrolled": true
   },
   "outputs": [
    {
     "data": {
      "text/plain": [
       "<sqlite3.Cursor at 0x7f82e39069d0>"
      ]
     },
     "execution_count": 27,
     "metadata": {},
     "output_type": "execute_result"
    }
   ],
   "source": [
    "#Importing sqlite3 \n",
    "import sqlite3\n",
    "con = sqlite3.connect('my_tables.db')\n",
    "cur = con.cursor()\n",
    "#Creating a table and inserting data into it\n",
    "cur.execute(\"CREATE TABLE table7 (City text, Country text, Season text, Temperature int, Rainfall int)\")\n",
    "cur.execute(\"INSERT INTO table7 VALUES ('Mumbai','India','Winter',24.8,5.9)\")\n",
    "cur.execute(\"INSERT INTO table7 VALUES ('Mumbai','India','Spring',28.4,16.2)\")\n",
    "cur.execute(\"INSERT INTO table7 VALUES ('Mumbai','India','Summer',27.9,1549.4)\")\n",
    "cur.execute(\"INSERT INTO table7 VALUES ('Mumbai','India','Fall',27.6,346.0)\")\n",
    "cur.execute(\"INSERT INTO table7 VALUES ('London','United Kingdom','Winter',4.2,207.7)\")\n",
    "cur.execute(\"INSERT INTO table7 VALUES ('London','United Kingdom','Spring',8.3,169.6)\")\n",
    "cur.execute(\"INSERT INTO table7 VALUES ('London','United Kingdom','Summer',15.7,157.0)\")\n",
    "cur.execute(\"INSERT INTO table7 VALUES ('London','United Kingdom','Fall',10.4,218.5)\")\n",
    "cur.execute(\"INSERT INTO table7 VALUES ('Cairo','Egypt','Winter',13.6,16.5)\")\n",
    "cur.execute(\"INSERT INTO table7 VALUES ('Cairo','Egypt','Spring',20.7,6.5)\")\n",
    "cur.execute(\"INSERT INTO table7 VALUES ('Cairo','Egypt','Summer',27.7,0.1)\")\n",
    "cur.execute(\"INSERT INTO table7 VALUES ('Cairo','Egypt','Fall',22.2,4.5)\")\n"
   ]
  },
  {
   "cell_type": "code",
   "execution_count": 129,
   "metadata": {},
   "outputs": [
    {
     "name": "stdout",
     "output_type": "stream",
     "text": [
      "Temperatures are: \n",
      "[(24.8,), (28.4,), (27.9,), (27.6,), (4.2,), (8.3,), (15.7,), (10.4,), (13.6,), (20.7,), (27.7,), (22.2,)]\n"
     ]
    }
   ],
   "source": [
    "#a) All the temperature data.\n",
    "cur.execute('SELECT Temperature FROM  table7')\n",
    "    \n",
    "print(f'Temperatures are: \\n{cur.fetchall()}')"
   ]
  },
  {
   "cell_type": "code",
   "execution_count": 38,
   "metadata": {},
   "outputs": [
    {
     "name": "stdout",
     "output_type": "stream",
     "text": [
      "Temperatures are:\n",
      "  [5.9, 16.2, 1549.4, 346, 207.7, 169.6, 157, 218.5, 16.5, 6.5, 0.1, 4.5]\n"
     ]
    }
   ],
   "source": [
    "#Alternative solution for question 8 part a\n",
    "cur.execute('SELECT * FROM  table7')\n",
    "empty_list = []\n",
    "\n",
    "for record in cur:\n",
    "    empty_list.append(record[4])\n",
    "print(f\"Temperatures are:\\n  {empty_list}\")\n",
    "\n",
    "    \n",
    "\n",
    "\n"
   ]
  },
  {
   "cell_type": "code",
   "execution_count": 40,
   "metadata": {},
   "outputs": [
    {
     "name": "stdout",
     "output_type": "stream",
     "text": [
      "Cities are:\n",
      " {'London', 'Cairo', 'Mumbai'}\n"
     ]
    }
   ],
   "source": [
    "#b) All the cities, but without repetition.\n",
    "cur.execute('SELECT * FROM  table7')\n",
    "empty_list1 = []\n",
    "for record in cur:\n",
    "    \n",
    "    empty_list1.append(record[0])\n",
    "print(f'Cities are:\\n {set(empty_list1)}')"
   ]
  },
  {
   "cell_type": "code",
   "execution_count": 57,
   "metadata": {},
   "outputs": [
    {
     "name": "stdout",
     "output_type": "stream",
     "text": [
      "Records for india \n",
      " [('Mumbai', 'India', 'Winter', 24.8, 5.9), ('Mumbai', 'India', 'Spring', 28.4, 16.2), ('Mumbai', 'India', 'Summer', 27.9, 1549.4), ('Mumbai', 'India', 'Fall', 27.6, 346)]\n"
     ]
    }
   ],
   "source": [
    "#c) All the records for India.\n",
    "Country = 'India'\n",
    "cur.execute(\"SELECT * FROM table7 WHERE Country = ? \", (Country,))\n",
    "print(f'Records for india \\n {cur.fetchall()}')\n",
    "    \n",
    "     "
   ]
  },
  {
   "cell_type": "code",
   "execution_count": 59,
   "metadata": {},
   "outputs": [
    {
     "name": "stdout",
     "output_type": "stream",
     "text": [
      "Records for fall \n",
      " [('Mumbai', 'India', 'Fall', 27.6, 346), ('London', 'United Kingdom', 'Fall', 10.4, 218.5), ('Cairo', 'Egypt', 'Fall', 22.2, 4.5)]\n"
     ]
    }
   ],
   "source": [
    "#d) All the Fall records.\n",
    "Season = 'Fall'\n",
    "cur.execute(\"SELECT * FROM table7 WHERE Season = ? \", (Season,))\n",
    "print(f'Records for fall \\n {cur.fetchall()}')\n",
    "    "
   ]
  },
  {
   "cell_type": "code",
   "execution_count": 80,
   "metadata": {},
   "outputs": [
    {
     "name": "stdout",
     "output_type": "stream",
     "text": [
      "['Mumbai', 'India', 'Fall', 346]\n",
      "['London', 'United Kingdom', 'Winter', 207.7]\n",
      "['London', 'United Kingdom', 'Fall', 218.5]\n"
     ]
    }
   ],
   "source": [
    "#Alternative Solution for question 8 part e\n",
    "cur.execute('SELECT * FROM  table7')\n",
    "my_list = []\n",
    "for record in cur:\n",
    "    if record[4] > 200 and record[4] < 400:\n",
    "        my_list.append(record[0])\n",
    "        my_list.append(record[1])\n",
    "        my_list.append(record[2])\n",
    "        my_list.append(record[4])\n",
    "print(my_list[:4])\n",
    "print(my_list[4:8])\n",
    "print(my_list[8:12])\n",
    "        "
   ]
  },
  {
   "cell_type": "code",
   "execution_count": 103,
   "metadata": {},
   "outputs": [
    {
     "name": "stdout",
     "output_type": "stream",
     "text": [
      "List of cities where rainfall is between 200 and 400: \n",
      "[('Mumbai', 'India', 'Fall', 346), ('London', 'United Kingdom', 'Winter', 207.7), ('London', 'United Kingdom', 'Fall', 218.5)]\n"
     ]
    }
   ],
   "source": [
    "#e) The city, country, and season for which the average rainfall is between 200 and 400 millimeters.\n",
    "cur.execute(\"SELECT City,Country,Season,Rainfall FROM table7 WHERE Rainfall > 200 and Rainfall < 400\")\n",
    "print(f'List of cities where rainfall is between 200 and 400: \\n{cur.fetchall()}')"
   ]
  },
  {
   "cell_type": "code",
   "execution_count": 109,
   "metadata": {},
   "outputs": [
    {
     "name": "stdout",
     "output_type": "stream",
     "text": [
      "Cities where temperature above 20 in incresing order:\n",
      " [('Cairo', 'Egypt', 22.2), ('Mumbai', 'India', 27.6)]\n"
     ]
    }
   ],
   "source": [
    "#f) The city and country for which the average Fall temperature is above 20 degrees, in increasing temperature order.\n",
    "cur.execute(\"SELECT City,Country,Temperature FROM table7 WHERE Temperature > 20 and Season = 'Fall' ORDER BY Temperature  ASC  \")\n",
    "print(f'Cities where temperature above 20 in incresing order:\\n {cur.fetchall()}')\n"
   ]
  },
  {
   "cell_type": "code",
   "execution_count": 115,
   "metadata": {},
   "outputs": [
    {
     "name": "stdout",
     "output_type": "stream",
     "text": [
      "Total annual rainfall for Cairo:\n",
      " [(6.9,)]\n"
     ]
    }
   ],
   "source": [
    "#g) The total annual rainfall for Cairo.\n",
    "cur.execute(\"SELECT AVG(Rainfall) FROM table7 WHERE City ='Cairo' \")\n",
    "print(f'Total annual rainfall for Cairo:\\n {cur.fetchall()}')"
   ]
  },
  {
   "cell_type": "code",
   "execution_count": 125,
   "metadata": {},
   "outputs": [
    {
     "name": "stdout",
     "output_type": "stream",
     "text": [
      "Total annual rainfall for Winter:\n",
      " [('Fall', 189.66666666666666), ('Spring', 64.1), ('Summer', 568.8333333333334), ('Winter', 76.7)]\n"
     ]
    }
   ],
   "source": [
    "#h) The total rainfall for each season.\n",
    "cur.execute(\"SELECT Season, AVG(Rainfall) FROM table7 GROUP BY Season\")\n",
    "print(f'Total annual rainfall for all seasons:\\n {cur.fetchall()}')"
   ]
  },
  {
   "cell_type": "code",
   "execution_count": null,
   "metadata": {},
   "outputs": [],
   "source": []
  }
 ],
 "metadata": {
  "kernelspec": {
   "display_name": "Python 3",
   "language": "python",
   "name": "python3"
  },
  "language_info": {
   "codemirror_mode": {
    "name": "ipython",
    "version": 3
   },
   "file_extension": ".py",
   "mimetype": "text/x-python",
   "name": "python",
   "nbconvert_exporter": "python",
   "pygments_lexer": "ipython3",
   "version": "3.7.4"
  }
 },
 "nbformat": 4,
 "nbformat_minor": 2
}
