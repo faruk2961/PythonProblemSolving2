{
 "cells": [
  {
   "cell_type": "code",
   "execution_count": null,
   "metadata": {},
   "outputs": [],
   "source": []
  },
  {
   "cell_type": "code",
   "execution_count": 11,
   "metadata": {},
   "outputs": [],
   "source": [
    "# Import libraries\n",
    "from urllib.request import urljoin\n",
    "from bs4 import BeautifulSoup\n",
    "import requests\n",
    "from urllib.request import urlparse\n",
    "  \n",
    "\n",
    "def level_crawler(input_url,depth,indent):\n",
    "    if indent ==0:\n",
    "        indentation = \"\"\n",
    "    elif indent > 0:\n",
    "        indentation = indent * \" \"\n",
    "         \n",
    "    temp_urls = set()\n",
    "    current_url_domain = urlparse(input_url).netloc\n",
    "  \n",
    "    # Creates beautiful soup object to extract html tags\n",
    "    beautiful_soup_object = BeautifulSoup(\n",
    "        requests.get(input_url).content, \"lxml\")\n",
    "  \n",
    "    # Access all anchor tags from input \n",
    "    \n",
    "    for anchor in beautiful_soup_object.findAll(\"a\"):\n",
    "        href = anchor.attrs.get(\"href\")\n",
    "        if(href != \"\" or href != None):\n",
    "            href = urljoin(input_url, href)\n",
    "            href_parsed = urlparse(href)\n",
    "            href = href_parsed.scheme\n",
    "            href += \"://\"\n",
    "            href += href_parsed.netloc\n",
    "            href += href_parsed.path\n",
    "            final_parsed_href = urlparse(href)\n",
    "            is_valid = bool(final_parsed_href.scheme) and bool(\n",
    "                final_parsed_href.netloc)\n",
    "            if is_valid:\n",
    "                if current_url_domain not in href: \n",
    "                    \n",
    "                    print(indentation,href)\n",
    "                    \n",
    "                if current_url_domain in href: \n",
    "                    for i in range(depth):\n",
    "                        \n",
    "                        print(indentation,href)\n",
    "                        temp_urls.add(href)\n",
    "    return temp_urls\n",
    "  \n",
    " \n",
    "    if(depth == 0):\n",
    "        print(input_url,depth)\n",
    "\n",
    "    elif(depth > 0):\n",
    "        level_crawler(input_url,depth)\n",
    "\n",
    "    else:\n",
    "      \n",
    "        queue = []\n",
    "        queue.append(input_url)\n",
    "        for j in range(depth):\n",
    "            for count in range(len(queue)):\n",
    "                url = queue.pop(0)\n",
    "                urls = level_crawler(url,depth)\n",
    "                for i in urls:\n",
    "                    queue.append(i)"
   ]
  },
  {
   "cell_type": "code",
   "execution_count": 12,
   "metadata": {
    "scrolled": true
   },
   "outputs": [
    {
     "name": "stdout",
     "output_type": "stream",
     "text": [
      " https://www.cdm.depaul.edu\n",
      " https://reed.cs.depaul.edu/index.html\n",
      " https://reed.cs.depaul.edu/index.html\n",
      " https://reed.cs.depaul.edu/contact.html\n",
      " https://reed.cs.depaul.edu/contact.html\n",
      " https://reed.cs.depaul.edu/rjagadeesan/\n",
      " https://reed.cs.depaul.edu/rjagadeesan/\n",
      " https://reed.cs.depaul.edu/wmarrero/\n",
      " https://reed.cs.depaul.edu/wmarrero/\n",
      " https://reed.cs.depaul.edu/cpitcher/\n",
      " https://reed.cs.depaul.edu/cpitcher/\n",
      " https://reed.cs.depaul.edu/jriely/\n",
      " https://reed.cs.depaul.edu/jriely/\n"
     ]
    },
    {
     "data": {
      "text/plain": [
       "{'https://reed.cs.depaul.edu/contact.html',\n",
       " 'https://reed.cs.depaul.edu/cpitcher/',\n",
       " 'https://reed.cs.depaul.edu/index.html',\n",
       " 'https://reed.cs.depaul.edu/jriely/',\n",
       " 'https://reed.cs.depaul.edu/rjagadeesan/',\n",
       " 'https://reed.cs.depaul.edu/wmarrero/'}"
      ]
     },
     "execution_count": 12,
     "metadata": {},
     "output_type": "execute_result"
    }
   ],
   "source": [
    "level_crawler(\"https://reed.cs.depaul.edu/\",2,0)\n",
    "\n"
   ]
  },
  {
   "cell_type": "code",
   "execution_count": null,
   "metadata": {},
   "outputs": [],
   "source": []
  }
 ],
 "metadata": {
  "kernelspec": {
   "display_name": "Python 3",
   "language": "python",
   "name": "python3"
  },
  "language_info": {
   "codemirror_mode": {
    "name": "ipython",
    "version": 3
   },
   "file_extension": ".py",
   "mimetype": "text/x-python",
   "name": "python",
   "nbconvert_exporter": "python",
   "pygments_lexer": "ipython3",
   "version": "3.7.4"
  }
 },
 "nbformat": 4,
 "nbformat_minor": 2
}
